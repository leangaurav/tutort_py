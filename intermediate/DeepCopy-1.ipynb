{
 "cells": [
  {
   "cell_type": "markdown",
   "id": "50944d63",
   "metadata": {},
   "source": [
    "### Copying Objects in Python"
   ]
  },
  {
   "cell_type": "markdown",
   "id": "88202810",
   "metadata": {},
   "source": [
    "- primitive types: int, float, bool, string...\n",
    "- composite/non-primitive types: list, tuple, dict, classes"
   ]
  },
  {
   "cell_type": "code",
   "execution_count": 42,
   "id": "3d8a92a3",
   "metadata": {},
   "outputs": [
    {
     "name": "stdout",
     "output_type": "stream",
     "text": [
      "[1, 2, 3, 4]\n",
      "[1, 2, 3, 4]\n"
     ]
    }
   ],
   "source": [
    "a = [1,2,3,4]\n",
    "b = a\n",
    "print(a)\n",
    "print(b)"
   ]
  },
  {
   "cell_type": "code",
   "execution_count": 44,
   "id": "0a8e5c3c",
   "metadata": {},
   "outputs": [
    {
     "name": "stdout",
     "output_type": "stream",
     "text": [
      "[10, 2, 3, 4]\n",
      "[10, 2, 3, 4]\n",
      "140260951139520\n",
      "140260951139520\n"
     ]
    }
   ],
   "source": [
    "a = [1,2,3,4]\n",
    "b = a\n",
    "\n",
    "a[0] = a[0] * 10\n",
    "\n",
    "print(a)\n",
    "print(b)\n",
    "\n",
    "print(id(a))\n",
    "print(id(b))"
   ]
  },
  {
   "cell_type": "code",
   "execution_count": 45,
   "id": "4939aaed",
   "metadata": {},
   "outputs": [
    {
     "name": "stdout",
     "output_type": "stream",
     "text": [
      "[10, 2, 3, 4]\n",
      "[1, 2, 3, 4]\n",
      "140261027276032\n",
      "140260950860032\n"
     ]
    }
   ],
   "source": [
    "a = [1,2,3,4]\n",
    "b = a.copy()\n",
    "\n",
    "a[0] = a[0] * 10\n",
    "\n",
    "print(a)\n",
    "print(b)\n",
    "\n",
    "print(id(a))\n",
    "print(id(b))"
   ]
  },
  {
   "cell_type": "code",
   "execution_count": 46,
   "id": "46e39278",
   "metadata": {},
   "outputs": [
    {
     "name": "stdout",
     "output_type": "stream",
     "text": [
      "[10, 2, 3, 4]\n",
      "[1, 2, 3, 4]\n",
      "140261027298944\n",
      "140260950907328\n"
     ]
    }
   ],
   "source": [
    "a = [1,2,3,4]\n",
    "#b = a.copy()\n",
    "b = a[:]\n",
    "\n",
    "a[0] = a[0] * 10\n",
    "\n",
    "print(a)\n",
    "print(b)\n",
    "\n",
    "print(id(a))\n",
    "print(id(b))"
   ]
  },
  {
   "cell_type": "code",
   "execution_count": 48,
   "id": "c75b3ca7",
   "metadata": {},
   "outputs": [
    {
     "name": "stdout",
     "output_type": "stream",
     "text": [
      "[10, 2, 3, 4, [10, 200]]\n",
      "[1, 2, 3, 4, [10, 200]]\n",
      "140261027299136\n",
      "140260950913664\n",
      "\n",
      "140260950889600\n",
      "140260950889600\n"
     ]
    }
   ],
   "source": [
    "# shallow copy\n",
    "a = [1,2,3,4,[10,20]]\n",
    "b = a.copy()\n",
    "\n",
    "a[0] = a[0] * 10\n",
    "a[-1][-1] = 200\n",
    "\n",
    "print(a)\n",
    "print(b)\n",
    "\n",
    "print(id(a))\n",
    "print(id(b))\n",
    "\n",
    "print()\n",
    "print(id(a[-1]))\n",
    "print(id(b[-1]))"
   ]
  },
  {
   "cell_type": "code",
   "execution_count": null,
   "id": "43be344c",
   "metadata": {},
   "outputs": [],
   "source": [
    "# deepcopy"
   ]
  },
  {
   "cell_type": "code",
   "execution_count": 52,
   "id": "07e9f877",
   "metadata": {},
   "outputs": [
    {
     "name": "stdout",
     "output_type": "stream",
     "text": [
      "[10, 2, 3, 4, [10, 200, ['gaurav']]]\n",
      "[1, 2, 3, 4, [10, 20, []]]\n",
      "140260951151680\n",
      "140261027676096\n",
      "\n",
      "140260950861696\n",
      "140260950910848\n"
     ]
    }
   ],
   "source": [
    "import copy\n",
    "# shallow copy\n",
    "a = [1,2,3,4,[10,20,[]]]\n",
    "b = copy.deepcopy(a)\n",
    "\n",
    "a[0] = a[0] * 10\n",
    "a[-1][-2] = 200\n",
    "a[-1][-1].append(\"gaurav\")\n",
    "\n",
    "print(a)\n",
    "print(b)\n",
    "\n",
    "print(id(a))\n",
    "print(id(b))\n",
    "\n",
    "print()\n",
    "print(id(a[-1]))\n",
    "print(id(b[-1]))"
   ]
  },
  {
   "cell_type": "code",
   "execution_count": null,
   "id": "9249c709",
   "metadata": {},
   "outputs": [],
   "source": [
    "# deepcopy for class"
   ]
  },
  {
   "cell_type": "code",
   "execution_count": 57,
   "id": "be8f232f",
   "metadata": {},
   "outputs": [
    {
     "name": "stdout",
     "output_type": "stream",
     "text": [
      "A(x=1)\n",
      "B(y=2, a=A(x=1))\n",
      "b1 B(y=2, a=A(x=10))\n",
      "b2 B(y=2, a=A(x=1))\n"
     ]
    }
   ],
   "source": [
    "class A:\n",
    "    def __init__(self, x):\n",
    "        self.x = x\n",
    "        \n",
    "    def __str__(self):\n",
    "        return f\"A(x={self.x})\"\n",
    "\n",
    "class B:\n",
    "    def __init__(self, y, a):\n",
    "        self.y = y\n",
    "        self.a = a\n",
    "        \n",
    "    def __str__(self):\n",
    "        return f\"B(y={self.y}, a={self.a})\"\n",
    "\n",
    "a1 = A(1)\n",
    "print(a1) # A(x=1)\n",
    "\n",
    "b1 = B(2, a1)\n",
    "print(b1)\n",
    "\n",
    "b2 = copy.deepcopy(b1)\n",
    "b1.a.x *= 10\n",
    "\n",
    "print(\"b1\", b1)\n",
    "print(\"b2\", b2)"
   ]
  },
  {
   "cell_type": "markdown",
   "id": "c89f660f",
   "metadata": {},
   "source": [
    "Notebook/Code available at \n",
    "https://github.com/leangaurav/tutort_py/blob/main/intermediate/DeepCopy-1.ipynb"
   ]
  }
 ],
 "metadata": {
  "kernelspec": {
   "display_name": "Python 3 (ipykernel)",
   "language": "python",
   "name": "python3"
  },
  "language_info": {
   "codemirror_mode": {
    "name": "ipython",
    "version": 3
   },
   "file_extension": ".py",
   "mimetype": "text/x-python",
   "name": "python",
   "nbconvert_exporter": "python",
   "pygments_lexer": "ipython3",
   "version": "3.8.10"
  }
 },
 "nbformat": 4,
 "nbformat_minor": 5
}
