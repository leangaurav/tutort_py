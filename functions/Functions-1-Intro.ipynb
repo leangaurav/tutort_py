{
 "cells": [
  {
   "cell_type": "markdown",
   "id": "60106812",
   "metadata": {},
   "source": [
    "### Intro to Functions"
   ]
  },
  {
   "cell_type": "code",
   "execution_count": 2,
   "id": "30488051",
   "metadata": {},
   "outputs": [
    {
     "name": "stdout",
     "output_type": "stream",
     "text": [
      "enter the base:3\n",
      "enter the exponent:4\n",
      "81\n"
     ]
    }
   ],
   "source": [
    "# write a program to input a number and an exponent  and print n^e\n",
    "\n",
    "b = int(input(\"enter the base:\"))\n",
    "e = int(input(\"enter the exponent:\"))\n",
    "\n",
    "res = 1\n",
    "for _ in range(e):\n",
    "    res *= b\n",
    "\n",
    "print(res)"
   ]
  },
  {
   "cell_type": "code",
   "execution_count": 4,
   "id": "75f90e63",
   "metadata": {},
   "outputs": [
    {
     "data": {
      "text/plain": [
       "81"
      ]
     },
     "execution_count": 4,
     "metadata": {},
     "output_type": "execute_result"
    }
   ],
   "source": [
    "3**4"
   ]
  },
  {
   "cell_type": "markdown",
   "id": "ef124ca3",
   "metadata": {},
   "source": [
    "### basic syntax of a function\n"
   ]
  },
  {
   "cell_type": "code",
   "execution_count": null,
   "id": "4f196464",
   "metadata": {},
   "outputs": [],
   "source": [
    "def <function_name>(<arg list>):\n",
    "    ... # body of the function"
   ]
  },
  {
   "cell_type": "code",
   "execution_count": 7,
   "id": "c5b9223d",
   "metadata": {},
   "outputs": [
    {
     "name": "stdout",
     "output_type": "stream",
     "text": [
      "Gaurav\n",
      "Gaurav\n",
      "Gaurav\n"
     ]
    }
   ],
   "source": [
    "def print_my_name(): # definition\n",
    "    print(\"Gaurav\")\n",
    "print_my_name() # calling\n",
    "print_my_name() # calling\n",
    "print_my_name() # calling"
   ]
  },
  {
   "cell_type": "code",
   "execution_count": 13,
   "id": "48bfb512",
   "metadata": {},
   "outputs": [
    {
     "name": "stdout",
     "output_type": "stream",
     "text": [
      "My name is GAURAV\n",
      "My name is ABCD\n",
      "My name is GAURAV\n"
     ]
    },
    {
     "ename": "AttributeError",
     "evalue": "'int' object has no attribute 'upper'",
     "output_type": "error",
     "traceback": [
      "\u001b[0;31m---------------------------------------------------------------------------\u001b[0m",
      "\u001b[0;31mAttributeError\u001b[0m                            Traceback (most recent call last)",
      "\u001b[0;32m/tmp/ipykernel_196/3537438727.py\u001b[0m in \u001b[0;36m<module>\u001b[0;34m\u001b[0m\n\u001b[1;32m      7\u001b[0m \u001b[0mprint_name\u001b[0m\u001b[0;34m(\u001b[0m\u001b[0;34m''\u001b[0m\u001b[0;34m.\u001b[0m\u001b[0mjoin\u001b[0m\u001b[0;34m(\u001b[0m\u001b[0;34m[\u001b[0m\u001b[0;34m'ga'\u001b[0m\u001b[0;34m,\u001b[0m\u001b[0;34m'urav'\u001b[0m\u001b[0;34m]\u001b[0m\u001b[0;34m)\u001b[0m\u001b[0;34m)\u001b[0m \u001b[0;31m# calling\u001b[0m\u001b[0;34m\u001b[0m\u001b[0;34m\u001b[0m\u001b[0m\n\u001b[1;32m      8\u001b[0m \u001b[0;34m\u001b[0m\u001b[0m\n\u001b[0;32m----> 9\u001b[0;31m \u001b[0mprint_name\u001b[0m\u001b[0;34m(\u001b[0m\u001b[0;36m10\u001b[0m\u001b[0;34m)\u001b[0m\u001b[0;34m\u001b[0m\u001b[0;34m\u001b[0m\u001b[0m\n\u001b[0m\u001b[1;32m     10\u001b[0m \u001b[0;31m# print_name(1,2)\u001b[0m\u001b[0;34m\u001b[0m\u001b[0;34m\u001b[0m\u001b[0;34m\u001b[0m\u001b[0m\n",
      "\u001b[0;32m/tmp/ipykernel_196/3537438727.py\u001b[0m in \u001b[0;36mprint_name\u001b[0;34m(name)\u001b[0m\n\u001b[1;32m      1\u001b[0m \u001b[0;32mdef\u001b[0m \u001b[0mprint_name\u001b[0m\u001b[0;34m(\u001b[0m\u001b[0mname\u001b[0m\u001b[0;34m:\u001b[0m \u001b[0mstr\u001b[0m\u001b[0;34m)\u001b[0m\u001b[0;34m:\u001b[0m \u001b[0;31m# definition\u001b[0m\u001b[0;34m\u001b[0m\u001b[0;34m\u001b[0m\u001b[0m\n\u001b[0;32m----> 2\u001b[0;31m     \u001b[0mprint\u001b[0m\u001b[0;34m(\u001b[0m\u001b[0;34mf\"My name is {name.upper()}\"\u001b[0m\u001b[0;34m)\u001b[0m\u001b[0;34m\u001b[0m\u001b[0;34m\u001b[0m\u001b[0m\n\u001b[0m\u001b[1;32m      3\u001b[0m \u001b[0;34m\u001b[0m\u001b[0m\n\u001b[1;32m      4\u001b[0m \u001b[0mprint_name\u001b[0m\u001b[0;34m(\u001b[0m\u001b[0;34m\"gaurav\"\u001b[0m\u001b[0;34m)\u001b[0m \u001b[0;31m# calling\u001b[0m\u001b[0;34m\u001b[0m\u001b[0;34m\u001b[0m\u001b[0m\n\u001b[1;32m      5\u001b[0m \u001b[0ms\u001b[0m \u001b[0;34m=\u001b[0m \u001b[0;34m\"abcd\"\u001b[0m\u001b[0;34m\u001b[0m\u001b[0;34m\u001b[0m\u001b[0m\n",
      "\u001b[0;31mAttributeError\u001b[0m: 'int' object has no attribute 'upper'"
     ]
    }
   ],
   "source": [
    "def print_name(name: str): # definition\n",
    "    print(f\"My name is {name.upper()}\")\n",
    "\n",
    "print_name(\"gaurav\") # calling\n",
    "s = \"abcd\"\n",
    "print_name(s) # calling\n",
    "print_name(''.join(['ga','urav'])) # calling\n",
    "\n",
    "print_name(10)\n",
    "# print_name(1,2)"
   ]
  },
  {
   "cell_type": "code",
   "execution_count": 14,
   "id": "e683fb6a",
   "metadata": {},
   "outputs": [
    {
     "data": {
      "text/plain": [
       "['In',\n",
       " 'Out',\n",
       " '_',\n",
       " '_3',\n",
       " '_4',\n",
       " '__',\n",
       " '___',\n",
       " '__builtin__',\n",
       " '__builtins__',\n",
       " '__doc__',\n",
       " '__loader__',\n",
       " '__name__',\n",
       " '__package__',\n",
       " '__spec__',\n",
       " '_dh',\n",
       " '_i',\n",
       " '_i1',\n",
       " '_i10',\n",
       " '_i11',\n",
       " '_i12',\n",
       " '_i13',\n",
       " '_i14',\n",
       " '_i2',\n",
       " '_i3',\n",
       " '_i4',\n",
       " '_i5',\n",
       " '_i6',\n",
       " '_i7',\n",
       " '_i8',\n",
       " '_i9',\n",
       " '_ih',\n",
       " '_ii',\n",
       " '_iii',\n",
       " '_oh',\n",
       " 'b',\n",
       " 'e',\n",
       " 'exit',\n",
       " 'get_ipython',\n",
       " 'print_my_name',\n",
       " 'print_name',\n",
       " 'quit',\n",
       " 'res',\n",
       " 's']"
      ]
     },
     "execution_count": 14,
     "metadata": {},
     "output_type": "execute_result"
    }
   ],
   "source": [
    "dir()"
   ]
  },
  {
   "cell_type": "code",
   "execution_count": 16,
   "id": "63bbe2d6",
   "metadata": {},
   "outputs": [
    {
     "name": "stdout",
     "output_type": "stream",
     "text": [
      "81\n"
     ]
    }
   ],
   "source": [
    "# write a program to input a number and an exponent  and print n^e\n",
    "\n",
    "def my_pow(x, y):\n",
    "    res = 1\n",
    "    for _ in range(y):\n",
    "        res *= x\n",
    "    print(res)\n",
    "\n",
    "#b = int(input(\"enter the base:\"))\n",
    "#e = int(input(\"enter the exponent:\"))\n",
    "#my_pow(b, e)\n",
    "my_pow(3,4)"
   ]
  },
  {
   "cell_type": "code",
   "execution_count": 17,
   "id": "f8503fe1",
   "metadata": {},
   "outputs": [
    {
     "name": "stdout",
     "output_type": "stream",
     "text": [
      "from function:  10\n",
      "from function after:  20\n",
      "after fuction: 10\n"
     ]
    }
   ],
   "source": [
    "def f(x): #  x has  function scope\n",
    "    print(\"from function: \", x)\n",
    "    x = 20\n",
    "    print(\"from function after: \", x)\n",
    "    \n",
    "x = 10 # global scope\n",
    "f(x)\n",
    "print(\"after fuction:\", x)"
   ]
  },
  {
   "cell_type": "markdown",
   "id": "fbc08623",
   "metadata": {},
   "source": [
    "### Return value of a function"
   ]
  },
  {
   "cell_type": "code",
   "execution_count": 20,
   "id": "84edf5ad",
   "metadata": {},
   "outputs": [
    {
     "name": "stdout",
     "output_type": "stream",
     "text": [
      "<class 'list'>\n",
      "['In', 'Out', '_', '_14', '_3', '_4', '__', '___', '__builtin__', '__builtins__', '__doc__', '__loader__', '__name__', '__package__', '__spec__', '_dh', '_i', '_i1', '_i10', '_i11', '_i12', '_i13', '_i14', '_i15', '_i16', '_i17', '_i18', '_i19', '_i2', '_i20', '_i3', '_i4', '_i5', '_i6', '_i7', '_i8', '_i9', '_ih', '_ii', '_iii', '_oh', 'b', 'e', 'exit', 'f', 'get_ipython', 'my_pow', 'print_my_name', 'print_name', 'quit', 'r', 'res', 's', 'x']\n"
     ]
    }
   ],
   "source": [
    "r = dir()\n",
    "print(type(r))\n",
    "print(r)"
   ]
  },
  {
   "cell_type": "code",
   "execution_count": 21,
   "id": "a168ce0f",
   "metadata": {},
   "outputs": [
    {
     "name": "stdout",
     "output_type": "stream",
     "text": [
      "\n",
      "<class 'NoneType'> None\n"
     ]
    }
   ],
   "source": [
    "r = print()\n",
    "print(type(r), r)"
   ]
  },
  {
   "cell_type": "code",
   "execution_count": 24,
   "id": "2f4d0861",
   "metadata": {},
   "outputs": [
    {
     "name": "stdout",
     "output_type": "stream",
     "text": [
      "None\n"
     ]
    }
   ],
   "source": [
    "def funct(): # by default all functions return a None value in python\n",
    "    pass\n",
    "\n",
    "r = funct()\n",
    "print(r)"
   ]
  },
  {
   "cell_type": "code",
   "execution_count": 25,
   "id": "deee8946",
   "metadata": {},
   "outputs": [
    {
     "name": "stdout",
     "output_type": "stream",
     "text": [
      "10\n"
     ]
    }
   ],
   "source": [
    "def funct():\n",
    "    return 10\n",
    "\n",
    "r = funct()\n",
    "print(r)"
   ]
  },
  {
   "cell_type": "markdown",
   "id": "048e155f",
   "metadata": {},
   "source": [
    "return keyword\n",
    "- return can be used inside  functions only\n",
    "- you can have 0-n return statements inside a functionm\n",
    "- as soon as the return statement is executed, your function exits"
   ]
  },
  {
   "cell_type": "code",
   "execution_count": 29,
   "id": "72d5362a",
   "metadata": {},
   "outputs": [
    {
     "name": "stdout",
     "output_type": "stream",
     "text": [
      "None\n",
      "fizz\n",
      "fizzbuzz\n"
     ]
    }
   ],
   "source": [
    "def funct(n):\n",
    "    if n % 3 == 0 and n%5 == 0:\n",
    "        return \"fizzbuzz\"\n",
    "    \n",
    "    if n%3 == 0:\n",
    "        return \"fizz\"\n",
    "    \n",
    "    if n%5 == 0:\n",
    "        return \"buzz\"\n",
    "    \n",
    "r = funct(4)\n",
    "print(r)\n",
    "\n",
    "print(funct(3))\n",
    "print(funct(30))"
   ]
  },
  {
   "cell_type": "code",
   "execution_count": 32,
   "id": "4f990b58",
   "metadata": {},
   "outputs": [
    {
     "name": "stdout",
     "output_type": "stream",
     "text": [
      "91\n",
      "65536\n"
     ]
    }
   ],
   "source": [
    "# write a program to input a number and an exponent  and print n^e\n",
    "\n",
    "def my_pow(x, y):\n",
    "    res = 1\n",
    "    for _ in range(y):\n",
    "        res *= x\n",
    "    return res\n",
    "\n",
    "r = my_pow(3,4) + 10\n",
    "print(r)\n",
    "\n",
    "print(my_pow( my_pow(2,4), 4))"
   ]
  },
  {
   "cell_type": "code",
   "execution_count": null,
   "id": "dd8f24d5",
   "metadata": {},
   "outputs": [],
   "source": []
  },
  {
   "cell_type": "markdown",
   "id": "1cc7c41c",
   "metadata": {},
   "source": [
    "Notebook/Code available at \n",
    "https://github.com/leangaurav/tutort_py/blob/main/functions/Functions-1-Intro.ipynb"
   ]
  }
 ],
 "metadata": {
  "kernelspec": {
   "display_name": "Python 3 (ipykernel)",
   "language": "python",
   "name": "python3"
  },
  "language_info": {
   "codemirror_mode": {
    "name": "ipython",
    "version": 3
   },
   "file_extension": ".py",
   "mimetype": "text/x-python",
   "name": "python",
   "nbconvert_exporter": "python",
   "pygments_lexer": "ipython3",
   "version": "3.8.10"
  }
 },
 "nbformat": 4,
 "nbformat_minor": 5
}
